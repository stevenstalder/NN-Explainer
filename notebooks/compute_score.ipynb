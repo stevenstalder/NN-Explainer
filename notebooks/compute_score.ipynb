{
 "cells": [
  {
   "cell_type": "code",
   "execution_count": null,
   "metadata": {},
   "outputs": [],
   "source": [
    "%load_ext autoreload\n",
    "%autoreload 2"
   ]
  },
  {
   "cell_type": "code",
   "execution_count": null,
   "metadata": {},
   "outputs": [],
   "source": [
    "import torch\n",
    "print(torch.cuda.is_available())"
   ]
  },
  {
   "cell_type": "code",
   "execution_count": null,
   "metadata": {},
   "outputs": [],
   "source": [
    "import sys\n",
    "import os\n"
   ]
  },
  {
   "cell_type": "code",
   "execution_count": null,
   "metadata": {},
   "outputs": [],
   "source": [
    "sys.path.insert(0, os.path.abspath(\"../src/\"))"
   ]
  },
  {
   "cell_type": "code",
   "execution_count": null,
   "metadata": {},
   "outputs": [],
   "source": [
    "import numpy as np\n",
    "import matplotlib.pyplot as plt\n",
    "from pathlib import Path\n",
    "import pandas as pd"
   ]
  },
  {
   "cell_type": "code",
   "execution_count": null,
   "metadata": {},
   "outputs": [],
   "source": [
    "from evaluation.eval_utils.compute_scores import gen_evaluation, compute_numbers"
   ]
  },
  {
   "cell_type": "code",
   "execution_count": null,
   "metadata": {},
   "outputs": [],
   "source": [
    "masks_path = Path(\"../src/evaluation/\")\n",
    "data_path = Path(\"../datasets/VOC2007/\")\n",
    "segmentations_path = Path(\"../datasets/VOC2007/VOCdevkit/VOC2007/SegmentationClass/\")\n",
    "dataset_name = \"VOC\"\n",
    "model_name = \"vgg16\"\n",
    "model_path = \"../src/checkpoints/pretrained_classifiers/vgg16_voc.ckpt\"\n",
    "# method = \"extremal_perturbation\"\n",
    "# method = \"guided_backprop\"\n",
    "\n",
    "method = \"grad_cam\"\n",
    "# method = \"rise\"\n",
    "# method = \"explainer\"\n",
    "# method = \"dabkowski\"\n"
   ]
  },
  {
   "cell_type": "code",
   "execution_count": null,
   "metadata": {},
   "outputs": [],
   "source": [
    "mask, seg_mask, p, p_mask, p_background, category_id, x = next(gen_evaluation(data_path, masks_path, segmentations_path, dataset_name, model_name, model_path, method).__iter__())"
   ]
  },
  {
   "cell_type": "code",
   "execution_count": null,
   "metadata": {},
   "outputs": [],
   "source": [
    "plt.figure(figsize=(10,3))\n",
    "plt.subplot(131)\n",
    "plt.imshow(np.transpose(x,[1,2,0]), vmin=0, vmax=1)\n",
    "plt.subplot(132)\n",
    "plt.imshow(seg_mask, cmap=\"gray\", vmin=0, vmax=1)\n",
    "plt.colorbar()\n",
    "plt.subplot(133)\n",
    "plt.imshow(mask, cmap=\"gray\", vmin=0, vmax=1)\n",
    "plt.colorbar()\n"
   ]
  },
  {
   "cell_type": "markdown",
   "metadata": {},
   "source": [
    "# Compute results"
   ]
  },
  {
   "cell_type": "code",
   "execution_count": null,
   "metadata": {},
   "outputs": [],
   "source": [
    "res = compute_numbers(data_path, masks_path, segmentations_path, dataset_name, model_name, model_path, method)\n",
    "d_f1_25,d_f1_50,d_f1_75,c_f1,a_f1s, aucs, d_IOU, c_IOU, sal, over, background_c, mask_c, sr = res"
   ]
  },
  {
   "cell_type": "code",
   "execution_count": null,
   "metadata": {},
   "outputs": [],
   "source": [
    "print(\"Discrete F1 25 : {:.3f}\".format(np.mean(np.array(d_f1_25))))\n",
    "print(\"Discrete F1 50 : {:.3f}\".format(np.mean(np.array(d_f1_50))))\n",
    "print(\"Discrete F1 75 : {:.3f}\".format(np.mean(np.array(d_f1_75))))\n",
    "print(\"Continuous F1  : {:.3f}\".format(np.mean(np.array(c_f1))))\n"
   ]
  },
  {
   "cell_type": "code",
   "execution_count": null,
   "metadata": {},
   "outputs": [],
   "source": [
    "print(\"Continuous IOU : {:.3f}\".format(np.mean(np.array(c_IOU))))\n",
    "print(\"Discrete   IOU : {:.3f}\".format(np.mean(np.array(d_IOU))))\n"
   ]
  },
  {
   "cell_type": "code",
   "execution_count": null,
   "metadata": {},
   "outputs": [],
   "source": [
    "print(\"Saliency           : {:.3f}\".format(np.mean(np.array(sal))))\n"
   ]
  },
  {
   "cell_type": "code",
   "execution_count": null,
   "metadata": {},
   "outputs": [],
   "source": [
    "print(\"Overlap            : {:.3f}\".format(np.mean(np.array(over))))\n",
    "print(\"Mask coverage      : {:.3f}\".format(np.mean(np.array(mask_c))))\n",
    "print(\"Background coverage: {:.3f}\".format(np.mean(np.array(background_c))))\n",
    "print(\"Sim ratio.         : {:.3f}\".format(np.mean(np.array(sr))))"
   ]
  },
  {
   "cell_type": "markdown",
   "metadata": {},
   "source": [
    "# Compute all metrics"
   ]
  },
  {
   "cell_type": "code",
   "execution_count": null,
   "metadata": {},
   "outputs": [],
   "source": [
    "try:\n",
    "    results = np.load(\"results.npz\", allow_pickle=True)[\"results\"].item()\n",
    "except:\n",
    "    results = {}"
   ]
  },
  {
   "cell_type": "code",
   "execution_count": null,
   "metadata": {},
   "outputs": [],
   "source": [
    "masks_path = Path(\"../src/evaluation/\")\n",
    "data_base_path = Path(\"../datasets/\")\n",
    "VOC_segmentations_path = Path(\"../datasets/VOC2007/VOCdevkit/VOC2007/SegmentationClass/\")\n",
    "COCO_segmentations_path = Path(\"../evaluations/coco_segmentations/\")\n",
    "\n",
    "datasets = [\"VOC\", \"COCO\"]\n",
    "classifiers = [\"vgg16\", \"resnet50\"]\n",
    "vgg16_voc_checkpoint = \"../src/checkpoints/pretrained_classifiers/vgg16_voc.ckpt\"\n",
    "vgg16_coco_checkpoint = \"../src/checkpoints/pretrained_classifiers/vgg16_coco.ckpt\"\n",
    "resnet50_voc_checkpoint = \"../src/checkpoints/pretrained_classifiers/resnet50_voc.ckpt\"\n",
    "resnet50_coco_checkpoint = \"../src/checkpoints/pretrained_classifiers/resnet50_coco.ckpt\"\n",
    "\n",
    "methods = [\"extremal_perturbations\",  \"grad_cam\", \"rise\", \"explainer\", \n",
    "          \"rt_saliency\", \"guided_backprop\", \"0.5\", \"0\", \"1\", \"perfect\"]"
   ]
  },
  {
   "cell_type": "code",
   "execution_count": null,
   "metadata": {},
   "outputs": [],
   "source": [
    "for dataset in datasets:\n",
    "    if not(dataset in results):\n",
    "        results[dataset] = {}\n",
    "    for classifier in classifiers:\n",
    "        if not(classifier in results[dataset]):\n",
    "            results[dataset][classifier] = {}\n",
    "        for method in methods:\n",
    "            if not(method in results[dataset][classifier]):\n",
    "                results[dataset][classifier][method] = {}            \n",
    "            try:\n",
    "                if dataset == \"VOC\":\n",
    "                    data_path = data_base_path / \"VOC2007\"\n",
    "                    segmentations_path = VOC_segmentations_path\n",
    "                    if classifier == \"vgg16\":\n",
    "                        model_path = vgg16_voc_checkpoint\n",
    "                    elif classifier == \"resnet50\":\n",
    "                        model_path = resnet50_voc_checkpoint\n",
    "                elif dataset == \"COCO\":\n",
    "                    data_path = data_base_path / \"COCO2014\"\n",
    "                    segmentations_path = COCO_segmentations_path\n",
    "                    if classifier == \"vgg16\":\n",
    "                        model_path = vgg16_coco_checkpoint\n",
    "                    elif classifier == \"resnet50\":\n",
    "                        model_path = resnet50_coco_checkpoint\n",
    "\n",
    "                d_f1_25,d_f1_50,d_f1_75,c_f1,a_f1s, aucs, d_IOU, c_IOU, sal, over, background_c, mask_c, sr = compute_numbers(data_path=data_path,\n",
    "                                                                                                                              masks_path=masks_path, \n",
    "                                                                                                                              segmentations_path=segmentations_path, \n",
    "                                                                                                                              dataset_name=dataset, \n",
    "                                                                                                                              model_name=classifier, \n",
    "                                                                                                                              model_path=model_path, \n",
    "                                                                                                                              method=method)\n",
    "\n",
    "\n",
    "                d = {}\n",
    "                d[\"d_f1_25\"] = d_f1_25\n",
    "                d[\"d_f1_50\"] = d_f1_50\n",
    "                d[\"d_f1_75\"] = d_f1_75\n",
    "                d[\"d_f1\"] = ((np.array(d_f1_25) + np.array(d_f1_50) + np.array(d_f1_75)) /3).tolist()\n",
    "                d[\"c_f1\"] = c_f1\n",
    "                d[\"a_f1s\"] = a_f1s\n",
    "                d[\"aucs\"] = aucs\n",
    "                d[\"d_IOU\"] = d_IOU\n",
    "                d[\"c_IOU\"] = c_IOU\n",
    "                d[\"sal\"] = sal\n",
    "                d[\"over\"] = over\n",
    "                d[\"background_c\"] = background_c\n",
    "                d[\"mask_c\"] = mask_c\n",
    "                d[\"sr\"] = sr\n",
    "                results[dataset][classifier][method] = d\n",
    "                print(\"Scores computed for: {} - {} - {}\".format(dataset, classifier, method))\n",
    "            except:\n",
    "                print(\"Cannot compute scores for: {} - {} - {}!\".format(dataset, classifier, method))\n",
    "\n",
    "np.savez(\"results.npz\", results=results)"
   ]
  },
  {
   "cell_type": "code",
   "execution_count": null,
   "metadata": {},
   "outputs": [],
   "source": []
  }
 ],
 "metadata": {
  "kernelspec": {
   "display_name": "pytorch_gpu",
   "language": "python",
   "name": "pytorch_gpu"
  },
  "language_info": {
   "codemirror_mode": {
    "name": "ipython",
    "version": 3
   },
   "file_extension": ".py",
   "mimetype": "text/x-python",
   "name": "python",
   "nbconvert_exporter": "python",
   "pygments_lexer": "ipython3",
   "version": "3.8.6"
  }
 },
 "nbformat": 4,
 "nbformat_minor": 5
}
