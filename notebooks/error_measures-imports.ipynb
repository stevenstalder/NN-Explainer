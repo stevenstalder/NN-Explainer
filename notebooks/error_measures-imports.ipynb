{
 "cells": [
  {
   "cell_type": "code",
   "execution_count": null,
   "metadata": {},
   "outputs": [],
   "source": [
    "import numpy as np\n",
    "import os, sys \n",
    "    \n",
    "sys.path.append(\"../src\")\n",
    "\n",
    "from evaluation.eval_utils.assessment_metrics import prob_sparsity, prob_entropy, saliency, continuous_IOU, discrete_IOU\n"
   ]
  },
  {
   "cell_type": "code",
   "execution_count": null,
   "metadata": {},
   "outputs": [],
   "source": [
    "# Create data\n",
    "nx = 100\n",
    "nc = 10\n",
    "c = 0\n",
    "mask1 = np.random.rand(nx,nx)\n",
    "seg1 = (np.random.rand(nx,nx)>0.5)*1\n",
    "\n",
    "mask2 = np.ones([nx,nx])\n",
    "mask3 = np.zeros([nx,nx])\n",
    "mask4 = seg1.copy()\n",
    "\n",
    "pvec1 = np.random.rand(nc)\n",
    "pvec1 = pvec1 / np.sum(pvec1)\n",
    "\n",
    "pvec2 = np.zeros(nc)\n",
    "pvec2[c] = 1\n",
    "\n",
    "pvec3 = np.ones(nc)/nc\n"
   ]
  },
  {
   "cell_type": "code",
   "execution_count": null,
   "metadata": {},
   "outputs": [],
   "source": [
    "def prob_sparsity(pvec):\n",
    "     \"\"\"Sparsity measure.\n",
    "    \n",
    "     For pvec of the masked image, we want this to be low.\n",
    "     For pvec of the inverse masked image, we want this to be high.\n",
    "     \"\"\"\n",
    "     return np.sum(pvec**2)\n",
    "\n",
    "def prob_entropy(pvec):\n",
    "     \"\"\"Sparsity measure.\n",
    "    \n",
    "     For pvec of the masked image, we want this to be low.\n",
    "     For pvec of the inverse masked image, we want this to be high.\n",
    "     \"\"\"\n",
    "     return -np.sum(pvec * np.log(np.maximum(pvec, 1e-15)))\n",
    "\n",
    "\n",
    "def saliency(pvec, c, mask):\n",
    "     \"\"\"\n",
    "     Continuous saliency measure. \n",
    "    \n",
    "     Adaptation from \"Real Time Image Saliency for Black Box Classifiers\n",
    " Piotr\", Dabkowski and Gal.\n",
    "\n",
    "     For pvec of the masked image, the lower the better for the masked image.\n",
    "    \n",
    "     This measure does not make sense for the inverse masked image.\n",
    "     \"\"\"\n",
    "     a = np.maximum(np.mean(mask), 0.05)\n",
    "     pclass = pvec[c]\n",
    "     return np.log(a) - np.log(pclass)\n",
    "\n",
    "def continuous_IOU(mask, seg):\n",
    "     ### this is no longer the IoU but 1 + the Soergel distance (which is 1- this ratio below)\n",
    "     #intersection = np.sum(mask * seg)\n",
    "     #union = np.sum(mask + seg)/2\n",
    "     #union = np.sum(mask + seg) - intersection\n",
    "     intersection = np.sum(np.minimum(mask, seg))\n",
    "     union = np.sum(np.maximum(mask, seg))\n",
    "     IOU = intersection/(union + 1e-15)\n",
    "     return IOU\n",
    "    \n",
    "def discrete_IOU(mask, seg, thresh=0.5):\n",
    "     mask = mask>thresh\n",
    "     seg = seg>thresh\n",
    "     intersection = np.sum(np.logical_and(mask, seg)*1.)\n",
    "     union = np.sum(np.logical_or(mask, seg)*1.)\n",
    "     IOU = intersection/(union + 1e-15)\n",
    "     return IOU\n",
    "    \n",
    "    "
   ]
  },
  {
   "cell_type": "code",
   "execution_count": null,
   "metadata": {},
   "outputs": [],
   "source": [
    "prob_sparsity(pvec1), prob_sparsity(pvec2), prob_sparsity(pvec3)"
   ]
  },
  {
   "cell_type": "code",
   "execution_count": null,
   "metadata": {},
   "outputs": [],
   "source": [
    "prob_entropy(pvec1), prob_entropy(pvec2), prob_entropy(pvec3)"
   ]
  },
  {
   "cell_type": "code",
   "execution_count": null,
   "metadata": {},
   "outputs": [],
   "source": [
    "saliency(pvec1, c, mask1), saliency(pvec2, c, mask1), saliency(pvec3, c, mask1)"
   ]
  },
  {
   "cell_type": "code",
   "execution_count": null,
   "metadata": {},
   "outputs": [],
   "source": [
    "continuous_IOU(mask1, seg1), continuous_IOU(mask4, seg1), continuous_IOU(mask2, seg1), continuous_IOU(mask3, seg1), "
   ]
  },
  {
   "cell_type": "code",
   "execution_count": null,
   "metadata": {},
   "outputs": [],
   "source": [
    "discrete_IOU(mask1, seg1), discrete_IOU(mask4, seg1), discrete_IOU(mask2, seg1), discrete_IOU(mask3, seg1), \n"
   ]
  },
  {
   "cell_type": "code",
   "execution_count": null,
   "metadata": {},
   "outputs": [],
   "source": []
  }
 ],
 "metadata": {
  "kernelspec": {
   "display_name": "pytorch_gpu",
   "language": "python",
   "name": "pytorch_gpu"
  },
  "language_info": {
   "codemirror_mode": {
    "name": "ipython",
    "version": 3
   },
   "file_extension": ".py",
   "mimetype": "text/x-python",
   "name": "python",
   "nbconvert_exporter": "python",
   "pygments_lexer": "ipython3",
   "version": "3.8.6"
  }
 },
 "nbformat": 4,
 "nbformat_minor": 5
}
