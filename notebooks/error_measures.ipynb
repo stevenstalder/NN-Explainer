{
 "cells": [
  {
   "cell_type": "code",
   "execution_count": null,
   "metadata": {},
   "outputs": [],
   "source": [
    "%load_ext autoreload\n",
    "%autoreload 2"
   ]
  },
  {
   "cell_type": "code",
   "execution_count": null,
   "metadata": {},
   "outputs": [],
   "source": [
    "import sys\n",
    "import os\n"
   ]
  },
  {
   "cell_type": "code",
   "execution_count": null,
   "metadata": {},
   "outputs": [],
   "source": [
    "sys.path.insert(0, os.path.abspath(\"../src/\"))\n",
    "os.environ[\"CUDA_VISIBLE_DEVICES\"]=\"\"\n"
   ]
  },
  {
   "cell_type": "code",
   "execution_count": null,
   "metadata": {},
   "outputs": [],
   "source": [
    "import numpy as np\n",
    "import matplotlib.pyplot as plt\n",
    "from torchray.attribution.extremal_perturbation import extremal_perturbation, contrastive_reward, Perturbation\n",
    "from torchray.benchmark import get_example_data, plot_example\n",
    "from torchray.utils import get_device\n",
    "import torch\n",
    "from torchray.attribution.guided_backprop import guided_backprop\n",
    "\n",
    "from pathlib import Path\n",
    "from evaluation.eval_utils.compute_masks import compute_and_save_masks, vedaldi2019, compute_mask\n",
    "from evaluation.eval_utils.compute_scores import get_model_and_data\n",
    "from utils.helper import get_target_dictionary\n"
   ]
  },
  {
   "cell_type": "code",
   "execution_count": null,
   "metadata": {},
   "outputs": [],
   "source": [
    "# Create data\n",
    "nx = 100\n",
    "nc = 10\n",
    "c = 0\n",
    "mask1 = np.random.rand(nx,nx)\n",
    "seg1 = (np.random.rand(nx,nx)>0.5)*1\n",
    "\n",
    "mask2 = np.ones([nx,nx])\n",
    "mask3 = np.zeros([nx,nx])\n",
    "mask4 = seg1.copy()\n",
    "\n",
    "pvec1 = np.random.rand(nc)\n",
    "pvec1 = pvec1 / np.sum(pvec1)\n",
    "\n",
    "pvec2 = np.zeros(nc)\n",
    "pvec2[c] = 1\n",
    "\n",
    "pvec3 = np.ones(nc)/nc\n"
   ]
  },
  {
   "cell_type": "code",
   "execution_count": null,
   "metadata": {},
   "outputs": [],
   "source": [
    "from evaluation.eval_utils.assessment_metrics import prob_entropy, prob_entropy, saliency, continuous_IOU, discrete_IOU, prob_sparsity"
   ]
  },
  {
   "cell_type": "code",
   "execution_count": null,
   "metadata": {},
   "outputs": [],
   "source": [
    "prob_sparsity(pvec1), prob_sparsity(pvec2), prob_sparsity(pvec3)"
   ]
  },
  {
   "cell_type": "code",
   "execution_count": null,
   "metadata": {},
   "outputs": [],
   "source": [
    "prob_entropy(pvec1), prob_entropy(pvec2), prob_entropy(pvec3)"
   ]
  },
  {
   "cell_type": "code",
   "execution_count": null,
   "metadata": {},
   "outputs": [],
   "source": [
    "saliency(pvec1, c, mask1), saliency(pvec2, c, mask1), saliency(pvec3, c, mask1)"
   ]
  },
  {
   "cell_type": "code",
   "execution_count": null,
   "metadata": {},
   "outputs": [],
   "source": [
    "continuous_IOU(mask1, seg1), continuous_IOU(mask4, seg1), continuous_IOU(mask2, seg1), continuous_IOU(mask3, seg1)"
   ]
  },
  {
   "cell_type": "code",
   "execution_count": null,
   "metadata": {},
   "outputs": [],
   "source": [
    "discrete_IOU(mask1, seg1), discrete_IOU(mask4, seg1), discrete_IOU(mask2, seg1), discrete_IOU(mask3, seg1), \n"
   ]
  },
  {
   "cell_type": "markdown",
   "metadata": {},
   "source": [
    "# Metrics using torchray"
   ]
  },
  {
   "cell_type": "code",
   "execution_count": null,
   "metadata": {},
   "outputs": [],
   "source": [
    "from torchray.attribution.grad_cam import grad_cam\n",
    "from torchray.benchmark import get_example_data, plot_example\n",
    "from torchray.attribution.rise import rise\n",
    "\n"
   ]
  },
  {
   "cell_type": "code",
   "execution_count": null,
   "metadata": {},
   "outputs": [],
   "source": [
    "path_masks = Path(\"../evaluation/\")\n",
    "data_path = Path(\"../datasets/VOC2007/\")\n",
    "dataset_name = \"VOC\"\n",
    "model_name = \"vgg16\"\n",
    "model_path = \"../src/checkpoints/pretrained_classifiers/vgg16_voc.ckpt\"\n",
    "\n",
    "if dataset_name==\"COCO\":\n",
    "    path_segmentation = path_masks / Path('coco_segmentations')\n",
    "elif dataset_name==\"VOC\":\n",
    "    path_segmentation = Path('../datasets/VOC2007/VOCdevkit/VOC2007/SegmentationClass/')\n",
    "\n",
    "    "
   ]
  },
  {
   "cell_type": "code",
   "execution_count": null,
   "metadata": {},
   "outputs": [],
   "source": [
    "model, data_module = get_model_and_data(data_path, dataset_name, model_name, model_path)"
   ]
  },
  {
   "cell_type": "code",
   "execution_count": null,
   "metadata": {},
   "outputs": [],
   "source": [
    "device = get_device()\n",
    "model.to(device);\n"
   ]
  },
  {
   "cell_type": "code",
   "execution_count": null,
   "metadata": {},
   "outputs": [],
   "source": [
    "method = \"guided_backprop\"\n",
    "\n",
    "path_outputs = path_masks / Path('{}_{}_{}/'.format(dataset_name, model_name, method))\n",
    "\n",
    "count = compute_and_save_masks(model, data_module, path_segmentation, path_outputs, method=method)\n",
    "print(count)"
   ]
  },
  {
   "cell_type": "code",
   "execution_count": null,
   "metadata": {},
   "outputs": [],
   "source": [
    "it = data_module.test_dataloader()"
   ]
  },
  {
   "cell_type": "code",
   "execution_count": null,
   "metadata": {},
   "outputs": [],
   "source": [
    "\n",
    "# # Obtain example data.\n",
    "# model, x, category_id, _ = get_example_data()\n",
    "c = 36\n",
    "for s in it:\n",
    "    img, meta = s\n",
    "    x = img\n",
    "    if dataset_name == \"COCO\":\n",
    "        category_id = meta[0][\"targets\"]\n",
    "    elif dataset_name == \"VOC\":\n",
    "        target_dict = get_target_dictionary(include_background_class=False)\n",
    "        objects = meta[0]['annotation']['object']\n",
    "        category_id = [target_dict[e[\"name\"]] for e in objects]\n",
    "    c -= 1\n",
    "    if c<0:\n",
    "        break\n",
    "x = x.to(device)"
   ]
  },
  {
   "cell_type": "code",
   "execution_count": null,
   "metadata": {},
   "outputs": [],
   "source": [
    "# Grad-CAM backprop.\n",
    "if model_name == \"vgg16\":\n",
    "    feature_extractor = model.feature_extractor[-1]\n",
    "elif model_name == \"resnet50\":\n",
    "    feature_extractor = model.feature_extractor[-2][-1]\n",
    "    \n",
    "saliency = grad_cam(model, x, 1, saliency_layer = feature_extractor, resize=True)\n",
    "\n",
    "# Plots.\n",
    "plot_example(x, saliency, 'grad-cam backprop', category_id)\n",
    "np.max(saliency.detach().cpu().numpy()), np.min(saliency.detach().cpu().numpy())"
   ]
  },
  {
   "cell_type": "code",
   "execution_count": null,
   "metadata": {},
   "outputs": [],
   "source": []
  }
 ],
 "metadata": {
  "kernelspec": {
   "display_name": "pytorch_gpu",
   "language": "python",
   "name": "pytorch_gpu"
  },
  "language_info": {
   "codemirror_mode": {
    "name": "ipython",
    "version": 3
   },
   "file_extension": ".py",
   "mimetype": "text/x-python",
   "name": "python",
   "nbconvert_exporter": "python",
   "pygments_lexer": "ipython3",
   "version": "3.8.6"
  }
 },
 "nbformat": 4,
 "nbformat_minor": 5
}
